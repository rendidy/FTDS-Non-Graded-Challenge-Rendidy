{
 "cells": [
  {
   "cell_type": "markdown",
   "metadata": {},
   "source": [
    "# Task 1\n",
    "## Given list of customer_id that doing transaction in 1 day:\n",
    "\n",
    "customer_id =\n",
    "\n",
    " ['B818', 'A461', 'A092', 'A082', 'B341', 'A005', 'A092', 'A461', 'B219', 'B904', 'A901', 'A083', 'B904', 'A092', 'B341', 'B821','B341', 'B821', 'B904', 'B818', 'A901', 'A083', 'B818', 'A082','B219', 'B219', 'A083', 'A901', 'A082', 'B341', 'B341', 'A083','A082', 'B219', 'B439', 'A461', 'A005', 'A901', 'B341', 'A082','A083', 'A461', 'A083', 'A901', 'A461', 'A083', 'A082', 'A083','B341', 'A901', 'A082', 'A461', 'B219', 'A083', 'B818', 'B821','A092', 'B341', 'A461', 'A092', 'A083', 'B821', 'A092']\n",
    "\n",
    "### Ada berapa unique customer_id dari list di atas?\n"
   ]
  },
  {
   "cell_type": "code",
   "execution_count": 20,
   "metadata": {},
   "outputs": [
    {
     "name": "stdout",
     "output_type": "stream",
     "text": [
      "['B818', 'A461', 'A092', 'A082', 'B341', 'A005', 'A092', 'A461', 'B219', 'B904', 'A901', 'A083', 'B904', 'A092', 'B341', 'B821', 'B341', 'B821', 'B904', 'B818', 'A901', 'A083', 'B818', 'A082', 'B219', 'B219', 'A083', 'A901', 'A082', 'B341', 'B341', 'A083', 'A082', 'B219', 'B439', 'A461', 'A005', 'A901', 'B341', 'A082', 'A083', 'A461', 'A083', 'A901', 'A461', 'A083', 'A082', 'A083', 'B341', 'A901', 'A082', 'A461', 'B219', 'A083', 'B818', 'B821', 'A092', 'B341', 'A461', 'A092', 'A083', 'B821', 'A092']\n"
     ]
    }
   ],
   "source": [
    "# Data Customer Id\n",
    "customer_id = (\n",
    "    ['B818', 'A461', 'A092', 'A082', 'B341', 'A005', 'A092', 'A461', 'B219',\n",
    "     'B904', 'A901', 'A083', 'B904', 'A092', 'B341', 'B821','B341', 'B821',\n",
    "      'B904', 'B818', 'A901', 'A083', 'B818', 'A082','B219', 'B219', 'A083',\n",
    "       'A901', 'A082', 'B341', 'B341', 'A083','A082', 'B219', 'B439', 'A461',\n",
    "        'A005', 'A901', 'B341', 'A082','A083', 'A461', 'A083', 'A901', 'A461',\n",
    "         'A083', 'A082', 'A083','B341', 'A901', 'A082', 'A461', 'B219', 'A083',\n",
    "          'B818', 'B821','A092', 'B341', 'A461', 'A092', 'A083', 'B821', 'A092']\n",
    "          )\n",
    "\n",
    "print(customer_id)"
   ]
  },
  {
   "cell_type": "code",
   "execution_count": 21,
   "metadata": {},
   "outputs": [
    {
     "name": "stdout",
     "output_type": "stream",
     "text": [
      "{'A092', 'B818', 'A082', 'B904', 'A461', 'A005', 'B439', 'A901', 'B341', 'B219', 'B821', 'A083'}\n",
      "12\n"
     ]
    }
   ],
   "source": [
    "# Unique Customer ID\n",
    "\n",
    "unique_customer_id = set(customer_id)\n",
    "print(unique_customer_id)\n",
    "\n",
    "jumlah_unique_customer_id = len(unique_customer_id)\n",
    "print(jumlah_unique_customer_id)"
   ]
  },
  {
   "cell_type": "markdown",
   "metadata": {},
   "source": [
    "# Task 2\n",
    "## Given list of:\n",
    "\n",
    "Data = [1, 4, 9, 16, 25, 36, 49,  64, 81, 100]\n",
    "\n",
    "Use indexing so you can get this output:\n",
    "\n",
    "a.16\n",
    "\n",
    "b.[36, 49, 64, 81]\n",
    "\n",
    "c.[100, 81, 64, 49, 36, 25, 16, 9, 4, 1]\n"
   ]
  },
  {
   "cell_type": "code",
   "execution_count": 22,
   "metadata": {},
   "outputs": [
    {
     "name": "stdout",
     "output_type": "stream",
     "text": [
      "[1, 4, 9, 16, 25, 36, 49, 64, 81, 100]\n"
     ]
    }
   ],
   "source": [
    "Data = [1, 4, 9, 16, 25, 36, 49,  64, 81, 100]\n",
    "\n",
    "print(Data)"
   ]
  },
  {
   "cell_type": "code",
   "execution_count": 23,
   "metadata": {},
   "outputs": [
    {
     "name": "stdout",
     "output_type": "stream",
     "text": [
      "16\n",
      "[36, 49, 64, 81]\n",
      "[100, 81, 64, 49, 36, 25, 16, 9, 4, 1]\n"
     ]
    }
   ],
   "source": [
    "# a. 16\n",
    "print(Data[3])\n",
    "\n",
    "# b. [36,49,64,81]\n",
    "print(Data[5:9])\n",
    "\n",
    "# c. [100, 81, 64, 49, 36, 25, 16, 9, 4, 1]\n",
    "print(Data[-1: :-1])"
   ]
  },
  {
   "cell_type": "markdown",
   "metadata": {},
   "source": [
    "# Task 3\n",
    "\n",
    "## Given a dictionary of:\n",
    "\n",
    "provinsi = {'Nanggroe Aceh Darussalam': 'Aceh','Sumatera Selatan': 'Palembang','Kalimantan Barat': 'Pontianak','Jawa Timur': 'Madiun','Sulawesi Selatan': 'Makassar','Maluku': 'Ambon'}\n",
    "\n",
    "What python command can be use to:\n",
    "\n",
    "a.Get list of keys available in dictionary\n",
    "\n",
    "b.Change 'Jawa Timur' value from 'Madiun'  to 'Surabaya'\n"
   ]
  },
  {
   "cell_type": "code",
   "execution_count": 24,
   "metadata": {},
   "outputs": [
    {
     "name": "stdout",
     "output_type": "stream",
     "text": [
      "{'Nanggroe Aceh Darussalam': 'Aceh', 'Sumatera Selatan': 'Palembang', 'Kalimantan Barat': 'Pontianak', 'Jawa Timur': 'Madiun', 'Sulawesi Selatan': 'Makassar', 'Maluku': 'Ambon'}\n"
     ]
    }
   ],
   "source": [
    "provinsi = (\n",
    "    {\n",
    "    'Nanggroe Aceh Darussalam': 'Aceh',\n",
    "    'Sumatera Selatan': 'Palembang',\n",
    "    'Kalimantan Barat': 'Pontianak',\n",
    "    'Jawa Timur': 'Madiun',\n",
    "    'Sulawesi Selatan': 'Makassar',\n",
    "    'Maluku': 'Ambon'\n",
    "    }\n",
    ")\n",
    "print(provinsi)"
   ]
  },
  {
   "cell_type": "code",
   "execution_count": 25,
   "metadata": {},
   "outputs": [
    {
     "name": "stdout",
     "output_type": "stream",
     "text": [
      "dict_keys(['Nanggroe Aceh Darussalam', 'Sumatera Selatan', 'Kalimantan Barat', 'Jawa Timur', 'Sulawesi Selatan', 'Maluku'])\n",
      "{'Nanggroe Aceh Darussalam': 'Aceh', 'Sumatera Selatan': 'Palembang', 'Kalimantan Barat': 'Pontianak', 'Jawa Timur': 'Surabaya', 'Sulawesi Selatan': 'Makassar', 'Maluku': 'Ambon'}\n"
     ]
    }
   ],
   "source": [
    "# a. List keys\n",
    "print(provinsi.keys())\n",
    "\n",
    "# b. Ubah value 'Jawa Timur' dari 'Madiun'  menjadi 'Surabaya'\n",
    "provinsi['Jawa Timur'] = 'Surabaya'\n",
    "print(provinsi)"
   ]
  }
 ],
 "metadata": {
  "kernelspec": {
   "display_name": "base",
   "language": "python",
   "name": "python3"
  },
  "language_info": {
   "codemirror_mode": {
    "name": "ipython",
    "version": 3
   },
   "file_extension": ".py",
   "mimetype": "text/x-python",
   "name": "python",
   "nbconvert_exporter": "python",
   "pygments_lexer": "ipython3",
   "version": "3.9.17"
  },
  "orig_nbformat": 4
 },
 "nbformat": 4,
 "nbformat_minor": 2
}
